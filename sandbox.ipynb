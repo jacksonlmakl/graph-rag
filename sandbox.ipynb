{
 "cells": [
  {
   "cell_type": "code",
   "execution_count": null,
   "id": "2f347732-66e6-455b-9404-903c63d3902c",
   "metadata": {},
   "outputs": [],
   "source": [
    "from model import analyze\n",
    "\n",
    "analyze()"
   ]
  },
  {
   "cell_type": "code",
   "execution_count": null,
   "id": "1955de4c-b582-4727-be83-f43294b858db",
   "metadata": {},
   "outputs": [],
   "source": []
  },
  {
   "cell_type": "code",
   "execution_count": null,
   "id": "68bf9c60-8a63-47fe-85c2-37a6c6d3702f",
   "metadata": {},
   "outputs": [],
   "source": []
  },
  {
   "cell_type": "code",
   "execution_count": null,
   "id": "4a25adb2-204e-47cd-aaf5-9f2afcfb7177",
   "metadata": {},
   "outputs": [],
   "source": [
    "doc_names = np.load(\"doc_names.npy\", allow_pickle=True)"
   ]
  },
  {
   "cell_type": "code",
   "execution_count": 1,
   "id": "2dc5b0f4-ffb5-4201-a722-49f1732a0e97",
   "metadata": {},
   "outputs": [],
   "source": [
    "import numpy as np"
   ]
  },
  {
   "cell_type": "code",
   "execution_count": null,
   "id": "8b1618ca-dc58-48dc-9419-444413c75b96",
   "metadata": {},
   "outputs": [],
   "source": [
    "doc_names"
   ]
  },
  {
   "cell_type": "code",
   "execution_count": null,
   "id": "1a6699bd-66dc-481f-9d42-49b9d9008335",
   "metadata": {},
   "outputs": [],
   "source": [
    "x=np.array(['file2.txt', 'file3.txt', 'file1.txt', 'file4.txt', 'file5.txt',\n",
    "       'file7.txt', 'file6.txt', 'file8.txt'])\n"
   ]
  },
  {
   "cell_type": "code",
   "execution_count": null,
   "id": "24b08eda-eb4a-4408-a932-e769ad848072",
   "metadata": {},
   "outputs": [],
   "source": [
    "x"
   ]
  },
  {
   "cell_type": "code",
   "execution_count": null,
   "id": "fda2d33a-67c4-4dab-8ff6-2d17bfca5bf4",
   "metadata": {},
   "outputs": [],
   "source": []
  }
 ],
 "metadata": {
  "kernelspec": {
   "display_name": "Python 3 (ipykernel)",
   "language": "python",
   "name": "python3"
  },
  "language_info": {
   "codemirror_mode": {
    "name": "ipython",
    "version": 3
   },
   "file_extension": ".py",
   "mimetype": "text/x-python",
   "name": "python",
   "nbconvert_exporter": "python",
   "pygments_lexer": "ipython3",
   "version": "3.13.1"
  }
 },
 "nbformat": 4,
 "nbformat_minor": 5
}
