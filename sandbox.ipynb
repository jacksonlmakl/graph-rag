{
 "cells": [
  {
   "cell_type": "code",
   "execution_count": null,
   "id": "1955de4c-b582-4727-be83-f43294b858db",
   "metadata": {},
   "outputs": [],
   "source": [
    "from utils.graphdb import GraphDB\n",
    "from utils.textembeddings import create_embeddings, search, compare_files,generate_pairs\n",
    "import os\n",
    "from topicmodel import extract_topics_bertopic"
   ]
  },
  {
   "cell_type": "code",
   "execution_count": null,
   "id": "68bf9c60-8a63-47fe-85c2-37a6c6d3702f",
   "metadata": {},
   "outputs": [],
   "source": [
    "GRAPHDB_URI = \"bolt://localhost:7687\"\n",
    "GRAPHDB_AUTH = (\"neo4j\", \"jackson123\")\n",
    "\n",
    "\n",
    "\n",
    "db = GraphDB(GRAPHDB_URI, GRAPHDB_AUTH)\n",
    "\n",
    "file_names=[i for i in os.listdir('files') if i.endswith(\".txt\")]\n",
    "\n",
    "#Generate all possible pairs of files\n",
    "file_pairs=generate_pairs(file_names)\n",
    "\n",
    "#Create nodes for each file in graph db\n",
    "for name in file_names:\n",
    "    db.create_node(name)\n",
    "\n",
    "#Create & Save embeddings in vector db\n",
    "create_embeddings()\n",
    "\n",
    "# Create Relationships\n",
    "for file1,file2 in file_pairs:\n",
    "    distance=compare_files(file1,file2)\n",
    "    threshold=1\n",
    "    if distance<threshold:\n",
    "        db.create_relationship(file1, file2, \"SIMILAR_TO\")\n",
    "        print(f\"\\t*RELATIONSHIP CREATED {file1} & {file2} \\nDistance: {distance}\")\n",
    "        \n",
    "db.close()"
   ]
  },
  {
   "cell_type": "code",
   "execution_count": null,
   "id": "4a25adb2-204e-47cd-aaf5-9f2afcfb7177",
   "metadata": {},
   "outputs": [],
   "source": []
  },
  {
   "cell_type": "code",
   "execution_count": null,
   "id": "2dc5b0f4-ffb5-4201-a722-49f1732a0e97",
   "metadata": {},
   "outputs": [],
   "source": [
    "r=search('Trisha paytas')"
   ]
  },
  {
   "cell_type": "code",
   "execution_count": null,
   "id": "8b1618ca-dc58-48dc-9419-444413c75b96",
   "metadata": {},
   "outputs": [],
   "source": [
    "extract_topics_bertopic('files/file1.txt','files/file2.txt')"
   ]
  },
  {
   "cell_type": "code",
   "execution_count": null,
   "id": "49f92f01-9840-4eee-88ca-b2c26bf344e9",
   "metadata": {},
   "outputs": [],
   "source": [
    "file_pairs"
   ]
  },
  {
   "cell_type": "code",
   "execution_count": null,
   "id": "129e6bde-7249-4f1c-83da-c477dffd8d2c",
   "metadata": {},
   "outputs": [],
   "source": []
  }
 ],
 "metadata": {
  "kernelspec": {
   "display_name": "Python 3 (ipykernel)",
   "language": "python",
   "name": "python3"
  },
  "language_info": {
   "codemirror_mode": {
    "name": "ipython",
    "version": 3
   },
   "file_extension": ".py",
   "mimetype": "text/x-python",
   "name": "python",
   "nbconvert_exporter": "python",
   "pygments_lexer": "ipython3",
   "version": "3.13.1"
  }
 },
 "nbformat": 4,
 "nbformat_minor": 5
}
